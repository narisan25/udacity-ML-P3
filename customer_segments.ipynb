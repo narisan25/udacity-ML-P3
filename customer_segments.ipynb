{
 "cells": [
  {
   "cell_type": "markdown",
   "metadata": {},
   "source": [
    "# Creating Customer Segments"
   ]
  },
  {
   "cell_type": "markdown",
   "metadata": {},
   "source": [
    "In this project you, will analyze a dataset containing annual spending amounts for internal structure, to understand the variation in the different types of customers that a wholesale distributor interacts with.\n",
    "\n",
    "Instructions:\n",
    "\n",
    "- Run each code block below by pressing **Shift+Enter**, making sure to implement any steps marked with a TODO.\n",
    "- Answer each question in the space provided by editing the blocks labeled \"Answer:\".\n",
    "- When you are done, submit the completed notebook (.ipynb) with all code blocks executed, as well as a .pdf version (File > Download as)."
   ]
  },
  {
   "cell_type": "code",
   "execution_count": 1,
   "metadata": {
    "collapsed": false
   },
   "outputs": [
    {
     "name": "stdout",
     "output_type": "stream",
     "text": [
      "Dataset has 440 rows, 6 columns\n",
      "   Fresh  Milk  Grocery  Frozen  Detergents_Paper  Delicatessen\n",
      "0  12669  9656     7561     214              2674          1338\n",
      "1   7057  9810     9568    1762              3293          1776\n",
      "2   6353  8808     7684    2405              3516          7844\n",
      "3  13265  1196     4221    6404               507          1788\n",
      "4  22615  5410     7198    3915              1777          5185\n"
     ]
    }
   ],
   "source": [
    "# Import libraries: NumPy, pandas, matplotlib\n",
    "import numpy as np\n",
    "import pandas as pd\n",
    "import matplotlib.pyplot as plt\n",
    "\n",
    "# Tell iPython to include plots inline in the notebook\n",
    "%matplotlib inline\n",
    "\n",
    "# Read dataset\n",
    "data = pd.read_csv(\"wholesale-customers.csv\")\n",
    "print \"Dataset has {} rows, {} columns\".format(*data.shape)\n",
    "print data.head()  # print the first 5 rows"
   ]
  },
  {
   "cell_type": "markdown",
   "metadata": {},
   "source": [
    "##Feature Transformation"
   ]
  },
  {
   "cell_type": "markdown",
   "metadata": {},
   "source": [
    "**1)** In this section you will be using PCA and ICA to start to understand the structure of the data. Before doing any computations, what do you think will show up in your computations? List one or two ideas for what might show up as the first PCA dimensions, or what type of vectors will show up as ICA dimensions."
   ]
  },
  {
   "cell_type": "markdown",
   "metadata": {},
   "source": [
    "Answer:\n",
    "PCA will find strong inverse proportion between Fresh and Frozen."
   ]
  },
  {
   "cell_type": "markdown",
   "metadata": {},
   "source": [
    "###PCA"
   ]
  },
  {
   "cell_type": "code",
   "execution_count": 14,
   "metadata": {
    "collapsed": false
   },
   "outputs": [
    {
     "name": "stdout",
     "output_type": "stream",
     "text": [
      "[[-0.97653685 -0.12118407 -0.06154039 -0.15236462  0.00705417 -0.06810471]\n",
      " [-0.11061386  0.51580216  0.76460638 -0.01872345  0.36535076  0.05707921]\n",
      " [-0.17855726  0.50988675 -0.27578088  0.71420037 -0.20440987  0.28321747]\n",
      " [-0.04187648 -0.64564047  0.37546049  0.64629232  0.14938013 -0.02039579]\n",
      " [ 0.015986    0.20323566 -0.1602915   0.22018612  0.20793016 -0.91707659]\n",
      " [-0.01576316  0.03349187  0.41093894 -0.01328898 -0.87128428 -0.26541687]]\n",
      "[ 0.45961362  0.40517227  0.07003008  0.04402344  0.01502212  0.00613848]\n"
     ]
    }
   ],
   "source": [
    "# TODO: Apply PCA with the same number of dimensions as variables in the dataset\n",
    "from sklearn.decomposition import PCA\n",
    "pca = PCA(n_components=6)\n",
    "pca.fit(data)\n",
    "\n",
    "# Print the components and the amount of variance in the data contained in each dimension\n",
    "print pca.components_\n",
    "print pca.explained_variance_ratio_"
   ]
  },
  {
   "cell_type": "markdown",
   "metadata": {},
   "source": [
    "**2)** How quickly does the variance drop off by dimension? If you were to use PCA on this dataset, how many dimensions would you choose for your analysis? Why?"
   ]
  },
  {
   "cell_type": "markdown",
   "metadata": {
    "collapsed": true
   },
   "source": [
    "Answer: First 2 component contributions are 45% and 40%, then others are less than 10%. First 5 components can describe 99% of dataset.\n",
    "I will choose 2 dimensions. Because first 2 dimension can describe 86% of data."
   ]
  },
  {
   "cell_type": "markdown",
   "metadata": {},
   "source": [
    "**3)** What do the dimensions seem to represent? How can you use this information?"
   ]
  },
  {
   "cell_type": "markdown",
   "metadata": {
    "collapsed": true
   },
   "source": [
    "Answer: There are 2 major relations hidden in this datasets. We can use them to categorize clients."
   ]
  },
  {
   "cell_type": "markdown",
   "metadata": {},
   "source": [
    "###ICA"
   ]
  },
  {
   "cell_type": "code",
   "execution_count": 29,
   "metadata": {
    "collapsed": false
   },
   "outputs": [
    {
     "name": "stdout",
     "output_type": "stream",
     "text": [
      "[[ 0.01093147  0.00103268 -0.00735199 -0.05404885  0.00265333  0.01676798]\n",
      " [-0.0019356  -0.07259497  0.05509189  0.00176972 -0.01570266  0.01707174]\n",
      " [ 0.00488057  0.00161822  0.00571538  0.0025316  -0.00243521 -0.05096625]\n",
      " [ 0.00381347 -0.01686782 -0.11494253  0.0070792   0.13437436  0.01615649]\n",
      " [-0.0502247   0.00631825  0.00582095  0.0032896  -0.00970278  0.00295601]\n",
      " [-0.00267543  0.01400049 -0.06017236 -0.00204815  0.00288754  0.00397899]]\n"
     ]
    }
   ],
   "source": [
    "# TODO: Fit an ICA model to the data\n",
    "# Note: Adjust the data to have center at the origin first!\n",
    "from sklearn.decomposition import FastICA\n",
    "from sklearn.preprocessing import scale\n",
    "ica = FastICA(n_components=6)\n",
    "data=scale(data)\n",
    "ica.fit(data)\n",
    "\n",
    "# Print the independent components\n",
    "print ica.components_"
   ]
  },
  {
   "cell_type": "markdown",
   "metadata": {},
   "source": [
    "**4)** For each vector in the ICA decomposition, write a sentence or two explaining what sort of object or property it corresponds to. What could these components be used for?"
   ]
  },
  {
   "cell_type": "markdown",
   "metadata": {
    "collapsed": true
   },
   "source": [
    "Answer: "
   ]
  },
  {
   "cell_type": "markdown",
   "metadata": {},
   "source": [
    "##Clustering\n",
    "\n",
    "In this section you will choose either K Means clustering or Gaussian Mixed Models clustering, which implements expectation-maximization. Then you will sample elements from the clusters to understand their significance."
   ]
  },
  {
   "cell_type": "markdown",
   "metadata": {},
   "source": [
    "###Choose a Cluster Type\n",
    "\n",
    "**5)** What are the advantages of using K Means clustering or Gaussian Mixture Models?"
   ]
  },
  {
   "cell_type": "markdown",
   "metadata": {},
   "source": [
    "Answer: "
   ]
  },
  {
   "cell_type": "markdown",
   "metadata": {},
   "source": [
    "**6)** Below is some starter code to help you visualize some cluster data. The visualization is based on [this demo](http://scikit-learn.org/stable/auto_examples/cluster/plot_kmeans_digits.html) from the sklearn documentation."
   ]
  },
  {
   "cell_type": "code",
   "execution_count": 34,
   "metadata": {
    "collapsed": true
   },
   "outputs": [],
   "source": [
    "# Import clustering modules\n",
    "from sklearn.cluster import KMeans\n",
    "from sklearn.mixture import GMM"
   ]
  },
  {
   "cell_type": "code",
   "execution_count": 66,
   "metadata": {
    "collapsed": false
   },
   "outputs": [
    {
     "name": "stdout",
     "output_type": "stream",
     "text": [
      "(440, 2)\n",
      "[[-0.19329055  0.30509996]\n",
      " [-0.4344199   0.32841262]\n",
      " [-0.81114323 -0.8150957 ]\n",
      " [ 0.77864783 -0.65275373]\n",
      " [-0.16628726 -1.27143372]\n",
      " [ 0.15616993  0.29514099]\n",
      " [ 0.3352884   0.52500326]\n",
      " [-0.14058643  0.23099269]\n",
      " [ 0.51731954  0.65936283]\n",
      " [-1.59210908  0.74101133]]\n"
     ]
    }
   ],
   "source": [
    "# TODO: First we reduce the data to two dimensions using PCA to capture variation\n",
    "pca=PCA(n_components=2)\n",
    "reduced_data = pca.fit_transform(data)\n",
    "print reduced_data[:10]  # print upto 10 elements"
   ]
  },
  {
   "cell_type": "code",
   "execution_count": 68,
   "metadata": {
    "collapsed": false
   },
   "outputs": [
    {
     "name": "stdout",
     "output_type": "stream",
     "text": [
      "KMeans(copy_x=True, init='k-means++', max_iter=300, n_clusters=2, n_init=10,\n",
      "    n_jobs=1, precompute_distances='auto', random_state=None, tol=0.0001,\n",
      "    verbose=0)\n",
      "[[-0.19329055  0.30509996]\n",
      " [-0.4344199   0.32841262]\n",
      " [-0.81114323 -0.8150957 ]\n",
      " [ 0.77864783 -0.65275373]\n",
      " [-0.16628726 -1.27143372]\n",
      " [ 0.15616993  0.29514099]\n",
      " [ 0.3352884   0.52500326]\n",
      " [-0.14058643  0.23099269]\n",
      " [ 0.51731954  0.65936283]\n",
      " [-1.59210908  0.74101133]]\n"
     ]
    }
   ],
   "source": [
    "# TODO: Implement your clustering algorithm here, and fit it to the reduced data for visualization\n",
    "# The visualizer below assumes your clustering object is named 'clusters'\n",
    "\n",
    "clusters = KMeans(n_clusters=2).fit(reduced_data)\n",
    "print clusters\n"
   ]
  },
  {
   "cell_type": "code",
   "execution_count": 70,
   "metadata": {
    "collapsed": false
   },
   "outputs": [
    {
     "name": "stdout",
     "output_type": "stream",
     "text": [
      "(1000000,)\n"
     ]
    }
   ],
   "source": [
    "# Plot the decision boundary by building a mesh grid to populate a graph.\n",
    "x_min, x_max = reduced_data[:, 0].min() - 1, reduced_data[:, 0].max() + 1\n",
    "y_min, y_max = reduced_data[:, 1].min() - 1, reduced_data[:, 1].max() + 1\n",
    "hx = (x_max-x_min)/1000.\n",
    "hy = (y_max-y_min)/1000.\n",
    "xx, yy = np.meshgrid(np.arange(x_min, x_max, hx), np.arange(y_min, y_max, hy))\n",
    "\n",
    "# Obtain labels for each point in mesh. Use last trained model.\n",
    "Z = clusters.predict(np.c_[xx.ravel(), yy.ravel()])"
   ]
  },
  {
   "cell_type": "code",
   "execution_count": 72,
   "metadata": {
    "collapsed": false
   },
   "outputs": [
    {
     "name": "stdout",
     "output_type": "stream",
     "text": [
      "[[-3.67428358  0.40751388]\n",
      " [ 0.41858927 -0.04642563]]\n"
     ]
    }
   ],
   "source": [
    "# TODO: Find the centroids for KMeans or the cluster means for GMM \n",
    "\n",
    "centroids = clusters.cluster_centers_\n",
    "print centroids"
   ]
  },
  {
   "cell_type": "code",
   "execution_count": 73,
   "metadata": {
    "collapsed": false
   },
   "outputs": [
    {
     "data": {
      "image/png": "[encoded data removed]",
      "text/plain": [
       "<matplotlib.figure.Figure at 0x124b3c6d0>"
      ]
     },
     "metadata": {},
     "output_type": "display_data"
    }
   ],
   "source": [
    "# Put the result into a color plot\n",
    "Z = Z.reshape(xx.shape)\n",
    "plt.figure(1)\n",
    "plt.clf()\n",
    "plt.imshow(Z, interpolation='nearest',\n",
    "           extent=(xx.min(), xx.max(), yy.min(), yy.max()),\n",
    "           cmap=plt.cm.Paired,\n",
    "           aspect='auto', origin='lower')\n",
    "\n",
    "plt.plot(reduced_data[:, 0], reduced_data[:, 1], 'k.', markersize=2)\n",
    "plt.scatter(centroids[:, 0], centroids[:, 1],\n",
    "            marker='x', s=169, linewidths=3,\n",
    "            color='w', zorder=10)\n",
    "plt.title('Clustering on the wholesale grocery dataset (PCA-reduced data)\\n'\n",
    "          'Centroids are marked with white cross')\n",
    "plt.xlim(x_min, x_max)\n",
    "plt.ylim(y_min, y_max)\n",
    "plt.xticks(())\n",
    "plt.yticks(())\n",
    "plt.show()"
   ]
  },
  {
   "cell_type": "markdown",
   "metadata": {},
   "source": [
    "**7)** What are the central objects in each cluster? Describe them as customers."
   ]
  },
  {
   "cell_type": "markdown",
   "metadata": {
    "collapsed": true
   },
   "source": [
    "Answer: "
   ]
  },
  {
   "cell_type": "code",
   "execution_count": 91,
   "metadata": {
    "collapsed": false
   },
   "outputs": [
    {
     "name": "stdout",
     "output_type": "stream",
     "text": [
      "[[ -1.17365711e+00   1.33707772e-01]\n",
      " [ -2.10277228e+00   2.39556336e-01]\n",
      " [ -4.05977192e+00   4.62505662e-01]\n",
      " [ -7.25661940e-01   8.26703476e-02]\n",
      " [ -3.40287852e+00   3.87669705e-01]\n",
      " [ -2.10038356e-02   2.39284203e-03]\n",
      " [ -4.87125924e-01   5.54953584e-02]\n",
      " [ -8.51699122e-01   9.70290139e-02]\n",
      " [ -9.07299896e-01   1.03363279e-01]\n",
      " [ -7.07488106e+00   8.05999108e-01]\n",
      " [ -2.98012224e+00   3.39507597e-01]\n",
      " [ -2.33104796e-01   2.65562426e-02]\n",
      " [ -4.50786289e+00   5.13554000e-01]\n",
      " [ -3.52898564e+00   4.02036338e-01]\n",
      " [ -3.48446686e+00   3.96964579e-01]\n",
      " [ -9.08482538e-01   1.03498011e-01]\n",
      " [ -4.03374489e+00   4.59540557e-01]\n",
      " [  1.02177063e+00  -1.16404249e-01]\n",
      " [ -1.65610653e+00   1.88670364e-01]\n",
      " [ -1.14398282e+00   1.30327157e-01]\n",
      " [  1.10057980e+00  -1.25382509e-01]\n",
      " [ -8.11068040e-01   9.24001564e-02]\n",
      " [ -5.87466130e+00   6.69265211e-01]\n",
      " [ -2.11653415e+01   2.41124144e+00]\n",
      " [ -5.99384967e+00   6.82843634e-01]\n",
      " [ -7.45702409e-01   8.49534390e-02]\n",
      " [ -3.75174806e-01   4.27414336e-02]\n",
      " [ -7.66059457e-01   8.72725963e-02]\n",
      " [ -1.28555817e+01   1.46455994e+00]\n",
      " [ -2.08655556e+00   2.37708861e-01]\n",
      " [ -4.91873735e-01   5.60362483e-02]\n",
      " [ -3.40923444e-01   3.88393797e-02]\n",
      " [ -1.15834361e-01   1.31963196e-02]\n",
      " [ -2.41197851e+00   2.74782362e-01]\n",
      " [ -1.98734128e+00   2.26405969e-01]\n",
      " [ -3.19206516e+00   3.63652992e-01]\n",
      " [ -2.86570032e+00   3.26472188e-01]\n",
      " [ -4.23304880e+00   4.82246066e-01]\n",
      " [ -7.63358121e+00   8.69648493e-01]\n",
      " [ -9.19272103e+00   1.04727202e+00]\n",
      " [ -6.26878217e+00   7.14165057e-01]\n",
      " [  1.14459192e-01  -1.30396548e-02]\n",
      " [ -4.83938647e+00   5.51322510e-01]\n",
      " [ -9.66883195e+00   1.10151250e+00]\n",
      " [ -2.63163671e+00   2.99806714e-01]\n",
      " [ -1.15149456e+01   1.31182925e+00]\n",
      " [ -8.31140658e+00   9.46869104e-01]\n",
      " [ -3.44618079e+01   3.92602875e+00]\n",
      " [ -2.39279645e+00   2.72597064e-01]\n",
      " [ -1.51550808e+01   1.72652819e+00]\n",
      " [ -1.33146982e-02   1.51686435e-03]\n",
      " [ -1.67124961e+00   1.90395525e-01]\n",
      " [ -1.37972539e+00   1.57183905e-01]\n",
      " [ -4.78491563e+00   5.45116970e-01]\n",
      " [ -1.22745728e+00   1.39836905e-01]\n",
      " [ -4.70774174e-01   5.36325008e-02]\n",
      " [ -1.85254260e+01   2.11049157e+00]\n",
      " [ -4.99374280e+00   5.68907408e-01]\n",
      " [ -7.33216476e-01   8.35309910e-02]\n",
      " [ -1.28066007e+00   1.45897983e-01]\n",
      " [ -1.74962924e+00   1.99324850e-01]\n",
      " [ -3.06603676e+01   3.49295327e+00]\n",
      " [ -3.60145427e-01   4.10292259e-02]\n",
      " [ -6.14388428e+00   6.99936184e-01]\n",
      " [  1.50791461e-02  -1.71787741e-03]\n",
      " [ -2.34582534e+01   2.67245925e+00]\n",
      " [ -2.88151897e+00   3.28274313e-01]\n",
      " [ -2.66783624e+00   3.03930711e-01]\n",
      " [  9.32350923e-02  -1.06217194e-02]\n",
      " [ -1.12311672e+00   1.27950006e-01]\n",
      " [ -2.87039410e+00   3.27006922e-01]\n",
      " [ -1.08642427e+01   1.23769853e+00]\n",
      " [  4.67964448e-01  -5.33124055e-02]\n",
      " [ -1.56123318e+00   1.77862007e-01]\n",
      " [ -6.18173166e-01   7.04247911e-02]\n",
      " [ -1.50214836e+00   1.71130826e-01]\n",
      " [  1.15753223e+00  -1.31870760e-01]\n",
      " [ -1.19123899e+01   1.35710771e+00]\n",
      " [ -8.67451908e-01   9.88236351e-02]\n",
      " [ -6.63147978e-01   7.55485038e-02]\n",
      " [ -1.36671718e+00   1.55701957e-01]\n",
      " [ -6.45297227e+00   7.35148739e-01]\n",
      " [ -2.48972801e+00   2.83639900e-01]\n",
      " [ -4.30158080e-01   4.90053508e-02]\n",
      " [ -4.41182214e-01   5.02612648e-02]\n",
      " [ -4.53110393e+01   5.16201714e+00]\n",
      " [ -3.05952339e+01   3.48553297e+00]\n",
      " [ -1.36586281e+01   1.55604624e+00]\n",
      " [ -9.13309303e-01   1.04047895e-01]\n",
      " [ -1.85909050e+00   2.11795121e-01]\n",
      " [ -8.71656902e-01   9.93026850e-02]\n",
      " [ -1.31995261e+00   1.50374349e-01]\n",
      " [ -2.01926068e+01   2.30042356e+00]\n",
      " [ -1.34771154e+01   1.53536757e+00]\n",
      " [ -4.48064174e+00   5.10452856e-01]\n",
      " [ -1.68768731e+00   1.92268175e-01]\n",
      " [ -2.93364196e+00   3.34212376e-01]\n",
      " [ -2.71422291e+00   3.09215268e-01]\n",
      " [ -2.62942650e+00   2.99554917e-01]\n",
      " [ -3.88569393e-01   4.42673992e-02]\n",
      " [ -4.64996269e+00   5.29742585e-01]\n",
      " [ -6.14785600e+00   7.00388658e-01]\n",
      " [ -1.66845566e+00   1.90077227e-01]\n",
      " [ -1.21420548e+01   1.38327207e+00]\n",
      " [  1.40425839e-01  -1.59978804e-02]\n",
      " [ -2.12260534e-02   2.41815798e-03]\n",
      " [ -4.16921384e+00   4.74973728e-01]\n",
      " [ -6.39092544e+00   7.28080113e-01]\n",
      " [ -1.89931456e+00   2.16377608e-01]\n",
      " [ -7.87028593e+00   8.96614853e-01]\n",
      " [ -2.29840974e-01   2.61844148e-02]\n",
      " [ -5.97620757e+00   6.80833774e-01]\n",
      " [ -3.18212432e+00   3.62520492e-01]\n",
      " [ -9.48980298e-02   1.08111680e-02]\n",
      " [ -5.55973650e-01   6.33387702e-02]\n",
      " [ -4.73729948e-01   5.39692345e-02]\n",
      " [ -4.38704061e-01   4.99789437e-02]\n",
      " [  2.21577408e-01  -2.52429958e-02]\n",
      " [ -1.06721067e+00   1.21580962e-01]\n",
      " [ -2.17779271e-01   2.48102967e-02]\n",
      " [ -1.67314694e-01   1.90611677e-02]\n",
      " [ -9.46078322e-01   1.07781075e-01]\n",
      " [ -1.16363841e+00   1.32566401e-01]\n",
      " [ -1.12606810e+00   1.28286239e-01]\n",
      " [ -3.17391828e+00   3.61585627e-01]\n",
      " [ -1.34282179e+01   1.52979697e+00]\n",
      " [ -1.93238444e+00   2.20145062e-01]\n",
      " [ -1.57135705e+00   1.79015360e-01]\n",
      " [ -1.94114999e+00   2.21143670e-01]\n",
      " [ -3.04959821e+00   3.47422581e-01]\n",
      " [ -4.51559610e-01   5.14434999e-02]\n",
      " [ -2.47419405e+00   2.81870208e-01]\n",
      " [ -3.90927960e-01   4.45360968e-02]\n",
      " [ -1.41753823e+00   1.61491697e-01]\n",
      " [ -1.18487150e+00   1.34985361e-01]\n",
      " [ -1.33874759e+00   1.52515548e-01]\n",
      " [ -4.39207173e-01   5.00362603e-02]\n",
      " [ -1.59026111e+00   1.81168987e-01]\n",
      " [  1.19079078e+00  -1.35659709e-01]\n",
      " [ -4.22964408e-01   4.81858186e-02]\n",
      " [  1.37420242e-01  -1.56554706e-02]\n",
      " [ -1.45823189e+00   1.66127684e-01]\n",
      " [ -1.59733050e+00   1.81974361e-01]\n",
      " [ -1.12734479e+00   1.28431685e-01]\n",
      " [ -7.05326096e-02   8.03536059e-03]\n",
      " [ -1.32049614e+01   1.50436269e+00]\n",
      " [ -1.07877781e+00   1.22898738e-01]\n",
      " [ -3.02853185e-01   3.45022616e-02]\n",
      " [ -1.09314566e+00   1.24535581e-01]\n",
      " [ -1.29713820e+00   1.47775238e-01]\n",
      " [ -3.35628690e-01   3.82361799e-02]\n",
      " [ -8.41108386e-01   9.58224744e-02]\n",
      " [ -3.12358859e-01   3.55851865e-02]\n",
      " [  1.61485906e-01  -1.83971286e-02]\n",
      " [ -3.05277861e+00   3.47784905e-01]\n",
      " [ -9.52878189e+00   1.08555743e+00]\n",
      " [ -4.49068860e+00   5.11597436e-01]\n",
      " [ -2.37920751e-01   2.71048957e-02]\n",
      " [ -2.27946644e+00   2.59686050e-01]\n",
      " [ -6.21446344e+00   7.07976848e-01]\n",
      " [ -2.68258335e+00   3.05610762e-01]\n",
      " [ -7.04001136e-01   8.02026611e-02]\n",
      " [  6.49414447e-02  -7.39839244e-03]\n",
      " [ -1.31061202e+01   1.49310230e+00]\n",
      " [ -1.67935714e+00   1.91319167e-01]\n",
      " [ -7.45459658e+00   8.49257839e-01]\n",
      " [ -2.41038555e+00   2.74600885e-01]\n",
      " [ -1.38430239e+00   1.57705335e-01]\n",
      " [ -1.62806428e+00   1.85475678e-01]\n",
      " [ -1.03651377e+00   1.18083847e-01]\n",
      " [ -5.42303860e+00   6.17814524e-01]\n",
      " [ -1.32794648e+01   1.51285043e+00]\n",
      " [ -2.03420263e+00   2.31744603e-01]\n",
      " [ -8.01241758e+00   9.12807066e-01]\n",
      " [ -5.86209187e-01   6.67833251e-02]\n",
      " [ -3.41642240e+00   3.89212679e-01]\n",
      " [ -4.83392243e+00   5.50700024e-01]\n",
      " [  7.29458001e-01  -8.31028103e-02]\n",
      " [  4.55881590e-01  -5.19358773e-02]\n",
      " [  8.37577152e-01  -9.54201819e-02]\n",
      " [ -3.69142922e-03   4.20542570e-04]\n",
      " [ -2.71886870e+01   3.09744536e+00]\n",
      " [ -4.91894291e+00   5.60385902e-01]\n",
      " [ -5.32495139e+01   6.06640032e+00]\n",
      " [ -2.57715358e+00   2.93599775e-01]\n",
      " [  5.19916061e-03  -5.92309437e-04]\n",
      " [ -1.01000812e+00   1.15064217e-01]\n",
      " [ -1.23350225e+00   1.40525573e-01]\n",
      " [ -3.64961014e+00   4.15778371e-01]\n",
      " [ -4.08614387e+00   4.65510061e-01]\n",
      " [ -8.81180547e-01   1.00387657e-01]\n",
      " [ -1.35551745e+00   1.54426038e-01]\n",
      " [ -1.57828214e+00   1.79804294e-01]\n",
      " [ -5.26893583e+00   6.00258513e-01]\n",
      " [ -8.47761932e-01   9.65804733e-02]\n",
      " [ -1.84335407e+00   2.10002362e-01]\n",
      " [ -9.50023881e+00   1.08230569e+00]\n",
      " [ -2.72409272e+00   3.10339677e-01]\n",
      " [  8.31168874e-01  -9.46901249e-02]\n",
      " [ -9.95912965e-01   1.13458439e-01]\n",
      " [ -9.63893123e+00   1.09810609e+00]\n",
      " [ -1.26133557e+01   1.43696458e+00]\n",
      " [ -6.64185039e+00   7.56666501e-01]\n",
      " [ -2.53591172e+00   2.88901335e-01]\n",
      " [ -9.45946678e-01   1.07766077e-01]\n",
      " [ -9.52137597e+00   1.08471372e+00]\n",
      " [ -1.73478170e+00   1.97633358e-01]\n",
      " [ -1.75208005e+00   1.99604057e-01]\n",
      " [ -1.25285945e+00   1.42730823e-01]\n",
      " [ -9.45837781e+00   1.07753671e+00]\n",
      " [ -4.18531129e-01   4.76807616e-02]\n",
      " [ -2.16183357e+01   2.46284837e+00]\n",
      " [ -5.01310633e-01   5.71113380e-02]\n",
      " [ -1.64589087e+00   1.87506555e-01]\n",
      " [ -3.83556948e+00   4.36963611e-01]\n",
      " [ -5.46703872e+00   6.22827196e-01]\n",
      " [ -1.56801172e+01   1.78634246e+00]\n",
      " [ -4.58770099e-01   5.22649480e-02]\n",
      " [ -4.76879994e+00   5.43281006e-01]\n",
      " [ -1.70362616e+00   1.94083993e-01]\n",
      " [ -7.55062161e-01   8.60197399e-02]\n",
      " [ -3.11718610e+00   3.55122467e-01]\n",
      " [ -4.33270739e-01   4.93599576e-02]\n",
      " [  8.64548818e-01  -9.84929033e-02]\n",
      " [ -1.45115673e+00   1.65321653e-01]\n",
      " [  1.26936774e-01  -1.44611514e-02]\n",
      " [ -3.91954433e-01   4.46530366e-02]\n",
      " [ -9.23614230e-01   1.05221874e-01]\n",
      " [ -2.15733910e+00   2.45772809e-01]\n",
      " [ -1.39594647e-01   1.59031877e-02]\n",
      " [ -1.42718685e+00   1.62590906e-01]\n",
      " [ -9.72364273e-01   1.10775677e-01]\n",
      " [ -9.21489000e-02   1.04979759e-02]\n",
      " [ -1.62973364e+00   1.85665857e-01]\n",
      " [ -5.74050709e-01   6.53981820e-02]\n",
      " [ -1.10226627e+00   1.25574638e-01]\n",
      " [ -8.51878843e-01   9.70494885e-02]\n",
      " [ -9.85945109e-01   1.12322860e-01]\n",
      " [ -1.78013337e+00   2.02800005e-01]\n",
      " [ -5.30344458e+00   6.04189889e-01]\n",
      " [ -4.55604499e+00   5.19043100e-01]\n",
      " [ -6.23539687e-01   7.10361669e-02]\n",
      " [ -4.52144939e-01   5.15101829e-02]\n",
      " [  1.09856967e+00  -1.25153507e-01]\n",
      " [ -1.98404687e+00   2.26030656e-01]\n",
      " [ -5.67615628e+00   6.46650716e-01]\n",
      " [ -5.61893948e-01   6.40132346e-02]\n",
      " [ -1.10353581e+00   1.25719269e-01]\n",
      " [  4.49308593e-01  -5.11870549e-02]\n",
      " [  2.67637421e-01  -3.04903391e-02]\n",
      " [ -1.18441317e+00   1.34933145e-01]\n",
      " [ -1.93547380e+01   2.20497015e+00]\n",
      " [ -3.26231023e-01   3.71655596e-02]\n",
      " [ -2.04791499e+00   2.33306771e-01]\n",
      " [ -3.53382734e+00   4.02587925e-01]\n",
      " [ -1.93775465e+00   2.20756859e-01]\n",
      " [ -1.02632496e-01   1.16923097e-02]\n",
      " [  1.02909099e+00  -1.17238215e-01]\n",
      " [ -7.94464832e+00   9.05086517e-01]\n",
      " [ -4.26412009e+00   4.85785833e-01]\n",
      " [ -4.44971097e-01   5.06929098e-02]\n",
      " [ -9.15186752e-01   1.04261782e-01]\n",
      " [ -4.82766234e-01   5.49986849e-02]\n",
      " [ -2.92784851e-01   3.33552362e-02]\n",
      " [ -5.65173641e+00   6.43868705e-01]\n",
      " [ -7.76380483e+00   8.84484094e-01]\n",
      " [ -6.40039338e+00   7.29158739e-01]\n",
      " [ -1.80004009e+00   2.05067858e-01]\n",
      " [ -5.61135888e+00   6.39268733e-01]\n",
      " [ -9.80634068e-01   1.11717805e-01]\n",
      " [ -9.59966478e-01   1.09363270e-01]\n",
      " [ -4.20306338e-01   4.78830005e-02]\n",
      " [ -1.11816514e+00   1.27385902e-01]\n",
      " [ -3.59601854e+00   4.09672998e-01]\n",
      " [ -1.49065166e+00   1.69821075e-01]\n",
      " [ -2.21723844e+00   2.52596785e-01]\n",
      " [ -2.25846359e+00   2.57293320e-01]\n",
      " [ -3.92098666e+00   4.46694683e-01]\n",
      " [ -4.61431313e-01   5.25681243e-02]\n",
      " [ -1.01867667e+00   1.16051773e-01]\n",
      " [ -9.30326419e-01   1.05986554e-01]\n",
      " [  7.55561768e-02  -8.60766572e-03]\n",
      " [ -5.33508113e+00   6.07794053e-01]\n",
      " [ -4.06963201e+00   4.63628963e-01]\n",
      " [ -1.00759689e+01   1.14789519e+00]\n",
      " [ -1.49187803e+00   1.69960788e-01]\n",
      " [ -1.02776800e+00   1.17087494e-01]\n",
      " [ -1.56110270e+00   1.77847144e-01]\n",
      " [ -9.51682473e-01   1.08419522e-01]\n",
      " [ -2.56678281e+00   2.92418295e-01]\n",
      " [ -9.57054159e-01   1.09031486e-01]\n",
      " [ -2.13783399e-01   2.43550708e-02]\n",
      " [  2.73560802e-01  -3.11651547e-02]\n",
      " [ -4.87104960e+00   5.54929701e-01]\n",
      " [  7.84888259e-01  -8.94176497e-02]\n",
      " [ -1.17650842e+00   1.34032604e-01]\n",
      " [ -6.92978765e-02   7.89469479e-03]\n",
      " [ -8.38304437e-01   9.55030372e-02]\n",
      " [ -2.00543220e+00   2.28466959e-01]\n",
      " [ -2.48801727e+00   2.83445005e-01]\n",
      " [  1.95261213e-01  -2.22449483e-02]\n",
      " [ -8.49950390e+00   9.68297913e-01]\n",
      " [ -3.63544984e+00   4.14165172e-01]\n",
      " [ -6.04012337e+00   6.88115321e-01]\n",
      " [ -1.01642995e+01   1.15795817e+00]\n",
      " [ -3.86526285e+00   4.40346400e-01]\n",
      " [ -8.14163766e+00   9.27528341e-01]\n",
      " [  6.67613822e-02  -7.60572709e-03]\n",
      " [ -1.29998885e+00   1.48099996e-01]\n",
      " [ -8.03260007e+00   9.15106337e-01]\n",
      " [ -2.27513010e+00   2.59192037e-01]\n",
      " [ -2.48479465e-01   2.83077871e-02]\n",
      " [ -1.03770723e+01   1.18219812e+00]\n",
      " [ -5.85764180e-01   6.67326281e-02]\n",
      " [  4.98009343e-01  -5.67352416e-02]\n",
      " [ -4.97116760e+00   5.66335549e-01]\n",
      " [ -5.36755423e-01   6.11493520e-02]\n",
      " [ -6.79732249e-01   7.74378511e-02]\n",
      " [ -1.63876378e-01   1.86694608e-02]\n",
      " [ -1.29710880e+01   1.47771889e+00]\n",
      " [ -1.34573980e+00   1.53312130e-01]\n",
      " [  2.89198702e-01  -3.29466875e-02]\n",
      " [  4.40848090e-02  -5.02232002e-03]\n",
      " [ -1.12575071e-01   1.28250081e-02]\n",
      " [ -6.93475264e-01   7.90035111e-02]\n",
      " [ -3.02152222e+01   3.44224050e+00]\n",
      " [ -6.45422484e-01   7.35291438e-02]\n",
      " [ -2.29429404e+00   2.61375270e-01]\n",
      " [ -1.78983329e+00   2.03905058e-01]\n",
      " [  1.68558920e-01  -1.92029149e-02]\n",
      " [  3.44685510e-01  -3.92679695e-02]\n",
      " [ -1.08971081e+01   1.24144270e+00]\n",
      " [ -9.68598961e-01   1.10346717e-01]\n",
      " [ -2.98759445e+01   3.40358861e+00]\n",
      " [ -4.47317415e+00   5.09602118e-01]\n",
      " [ -2.23158365e+00   2.54231048e-01]\n",
      " [ -7.29203137e-01   8.30737751e-02]\n",
      " [ -8.30686809e-01   9.46352061e-02]\n",
      " [ -1.88088818e+00   2.14278401e-01]\n",
      " [ -4.93153327e-01   5.61820246e-02]\n",
      " [ -3.90431585e+00   4.44795476e-01]\n",
      " [ -3.05036947e+00   3.47510446e-01]\n",
      " [ -2.36450433e+00   2.69373911e-01]\n",
      " [ -1.19345403e+01   1.35963117e+00]\n",
      " [ -1.42965157e+00   1.62871698e-01]\n",
      " [ -2.61211628e+00   2.97582867e-01]\n",
      " [ -4.65048535e+00   5.29802129e-01]\n",
      " [ -2.53890379e+00   2.89242204e-01]\n",
      " [ -1.11837021e+00   1.27409264e-01]\n",
      " [ -1.05656478e+01   1.20368140e+00]\n",
      " [ -1.13222364e+00   1.28987503e-01]\n",
      " [ -1.05220001e+01   1.19870887e+00]\n",
      " [ -2.32759937e+00   2.65169548e-01]\n",
      " [ -7.62420593e+00   8.68580422e-01]\n",
      " [ -1.25051766e+00   1.42464037e-01]\n",
      " [ -2.65316104e+00   3.02258852e-01]\n",
      " [ -1.48377022e+00   1.69037114e-01]\n",
      " [ -6.23326614e+00   7.10118928e-01]\n",
      " [ -2.92055674e+00   3.32721654e-01]\n",
      " [ -1.28378386e+00   1.46253857e-01]\n",
      " [ -1.41288139e-01   1.60961171e-02]\n",
      " [ -1.79701364e+00   2.04723073e-01]\n",
      " [ -1.72215846e+00   1.96195267e-01]\n",
      " [ -1.73726615e+00   1.97916397e-01]\n",
      " [ -1.82222342e+00   2.07595074e-01]\n",
      " [ -1.60244586e+00   1.82557124e-01]\n",
      " [ -8.63318070e-01   9.83526915e-02]\n",
      " [ -1.84593167e+00   2.10296013e-01]\n",
      " [ -5.99188788e-01   6.82620138e-02]\n",
      " [ -1.86491105e+00   2.12458221e-01]\n",
      " [ -2.50638158e+00   2.85537142e-01]\n",
      " [ -2.00387803e+00   2.28289903e-01]\n",
      " [  9.78103343e-01  -1.11429495e-01]\n",
      " [ -3.23043134e-01   3.68023823e-02]\n",
      " [ -9.01361454e-01   1.02686748e-01]\n",
      " [ -1.81868919e+00   2.07192440e-01]\n",
      " [ -3.19441323e+00   3.63920495e-01]\n",
      " [ -1.90135634e+00   2.16610215e-01]\n",
      " [ -1.17005721e+00   1.33297657e-01]\n",
      " [ -1.78218640e+00   2.03033894e-01]\n",
      " [ -1.33970578e+00   1.52624709e-01]\n",
      " [ -2.34900515e+00   2.67608182e-01]\n",
      " [ -3.23690482e+00   3.68761309e-01]\n",
      " [ -7.51003939e-01   8.55574108e-02]\n",
      " [ -7.24372933e+00   8.25234987e-01]\n",
      " [ -5.63089553e-01   6.41494428e-02]\n",
      " [ -7.44862940e-01   8.48578033e-02]\n",
      " [ -4.82419646e-01   5.49592001e-02]\n",
      " [ -1.14803858e+00   1.30789205e-01]\n",
      " [ -6.01607198e-01   6.85375289e-02]\n",
      " [ -5.22398864e-01   5.95137947e-02]\n",
      " [ -6.07830847e-01   6.92465521e-02]\n",
      " [ -1.44984385e+00   1.65172084e-01]\n",
      " [ -2.67625252e+00   3.04889528e-01]\n",
      " [ -6.86510492e-01   7.82100560e-02]\n",
      " [ -6.68009784e-01   7.61023805e-02]\n",
      " [ -2.73844458e+00   3.11974699e-01]\n",
      " [ -9.61058364e-01   1.09487662e-01]\n",
      " [ -1.01224780e+00   1.15319369e-01]\n",
      " [ -1.22347093e+00   1.39382764e-01]\n",
      " [ -8.16340136e-01   9.30007750e-02]\n",
      " [ -5.85855581e+00   6.67430409e-01]\n",
      " [  6.67497532e-01  -7.60440226e-02]\n",
      " [  5.07413365e-01  -5.78065859e-02]\n",
      " [  1.87909636e-01  -2.14074269e-02]\n",
      " [ -1.15274021e+00   1.31324834e-01]\n",
      " [ -3.25845206e+00   3.71216058e-01]\n",
      " [ -7.30024491e+00   8.31673471e-01]\n",
      " [ -4.92962598e-01   5.61602959e-02]\n",
      " [ -4.55433191e-01   5.18847939e-02]\n",
      " [  2.85183209e-01  -3.24892263e-02]\n",
      " [  1.15150762e+00  -1.31184412e-01]\n",
      " [ -3.29148723e+00   3.74979558e-01]\n",
      " [ -4.87739712e+00   5.55652836e-01]\n",
      " [  2.07751469e-01  -2.36678888e-02]\n",
      " [ -1.00453068e+00   1.14440204e-01]\n",
      " [ -4.81511157e+00   5.48557015e-01]\n",
      " [ -2.27883579e+00   2.59614204e-01]\n",
      " [ -6.57755596e+00   7.49341818e-01]\n",
      " [  1.58968686e-01  -1.81103566e-02]\n",
      " [ -4.34293791e+00   4.94765078e-01]\n",
      " [ -3.86232763e-01   4.40012009e-02]\n",
      " [  4.08408213e-02  -4.65275179e-03]\n",
      " [  1.01023598e+00  -1.15090175e-01]\n",
      " [ -6.90246309e-01   7.86356554e-02]\n",
      " [ -4.44724766e+00   5.06648468e-01]\n",
      " [ -3.88696383e+00   4.42818664e-01]\n",
      " [ -8.03363760e+00   9.15224537e-01]\n",
      " [ -4.97360738e-01   5.66613499e-02]\n",
      " [  7.40951442e-02  -8.44121895e-03]\n",
      " [ -1.55311351e+00   1.76936982e-01]\n",
      " [ -2.82934979e+00   3.22330989e-01]\n",
      " [  2.87749180e-01  -3.27815522e-02]\n",
      " [ -6.71777789e-01   7.65316468e-02]\n",
      " [  4.75494236e-01  -5.41702294e-02]\n",
      " [ -7.72201428e+00   8.79723146e-01]\n",
      " [ -4.19975122e+00   4.78452671e-01]\n",
      " [ -1.45482370e+01   1.65739409e+00]\n",
      " [  2.12925753e-02  -2.42573643e-03]\n",
      " [ -2.22544022e+00   2.53531165e-01]]\n"
     ]
    }
   ],
   "source": [
    "result=clusters.transform(reduced_data)\n",
    "result=np.dot(result,centroids.T)\n",
    "print result"
   ]
  },
  {
   "cell_type": "markdown",
   "metadata": {},
   "source": [
    "###Conclusions\n",
    "\n",
    "** 8)** Which of these techniques did you feel gave you the most insight into the data?"
   ]
  },
  {
   "cell_type": "markdown",
   "metadata": {
    "collapsed": true
   },
   "source": [
    "Answer: "
   ]
  },
  {
   "cell_type": "markdown",
   "metadata": {
    "collapsed": true
   },
   "source": [
    "**9)** How would you use that technique to help the company design new experiments?"
   ]
  },
  {
   "cell_type": "markdown",
   "metadata": {},
   "source": [
    "Answer: "
   ]
  },
  {
   "cell_type": "markdown",
   "metadata": {},
   "source": [
    "**10)** How would you use that data to help you predict future customer needs?"
   ]
  },
  {
   "cell_type": "markdown",
   "metadata": {},
   "source": [
    "Answer: "
   ]
  }
 ],
 "metadata": {
  "kernelspec": {
   "display_name": "Python 2",
   "language": "python",
   "name": "python2"
  },
  "language_info": {
   "codemirror_mode": {
    "name": "ipython",
    "version": 2
   },
   "file_extension": ".py",
   "mimetype": "text/x-python",
   "name": "python",
   "nbconvert_exporter": "python",
   "pygments_lexer": "ipython2",
   "version": "2.7.11"
  }
 },
 "nbformat": 4,
 "nbformat_minor": 0
}
